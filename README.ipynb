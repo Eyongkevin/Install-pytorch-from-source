{
 "cells": [
  {
   "cell_type": "markdown",
   "metadata": {},
   "source": [
    "# Install pytorch from source\n",
    "-------------------\n",
    "Here, I describe a simple and efficient way to install pytorch from source. I also sight out some of the problems encountered during installation and how to solve them.\n",
    "\n",
    "I am using **Ubuntu v16.4, python v3.6, CUDA v8, and cuDNN  v7.1.**\n",
    "\n",
    "**NB:** *Make sure **cuDNN** is v6 and above. I will recomment v7 and above.*"
   ]
  },
  {
   "cell_type": "markdown",
   "metadata": {},
   "source": [
    "## Steps\n",
    "\n",
    "- **I recommend you do this in an environment. With Anaconda, create an env.**\n",
    "\n",
    "    `conda create -n envName python=3.6 anaconda`\n",
    "    \n",
    "    \n",
    "- **Make sure g++ is installed and up to date.**\n",
    "\n",
    "    `sudo apt-get install g++ cmake`\n",
    "    \n",
    "    \n",
    "- **Install some dependencies**\n",
    "\n",
    "    `conda install numpy pyyaml mkl setuptools cffi`\n",
    "    \n",
    "    \n",
    "- **Clone the repository**\n",
    "\n",
    "    `git clone https://github.com/pytorch/pytorch.git`\n",
    "    \n",
    "    \n",
    "- **move to pytorch directory and update submodule git**\n",
    "\n",
    "    `cd pytorch`\n",
    "    \n",
    "    `git submodule update --init`\n",
    "    \n",
    "    \n",
    "- **install pytorch**\n",
    "\n",
    "    `python setup.py install`\n",
    "    \n",
    "After all installation has been done. Close the terminal, open a new terminal, activate the environment, start python and import torch."
   ]
  },
  {
   "cell_type": "markdown",
   "metadata": {},
   "source": [
    "## Problem faced when importing torch\n",
    "\n",
    "### 1. undefined symbol: mkl_lapack_sgelqf\n",
    "this is because you have an older version of **mkl**. But more importantly it seems to be loaded into the process already. Maybe you can install mkl from anaconda or intel channels: `conda install mkl=2018 -c anaconda or conda install mkl=2018 -c intel`\n",
    "\n",
    "**NB:** *mkl should have been updated when installing dependencies above.*\n",
    "\n",
    "### 2. ModuleNotFoundError: No module named 'torch._C'\n",
    "The problem is that you have a folder called torch in the same directory which is being picked up. Do this: cd .. (to change directory), and then start python and import torch, it should work.\n",
    "\n",
    "**NB:** *When you clone pytorch, it creates a folder called **pytorch**, so if you happen to start python and import torch in a directory containing this **pytorch** folder, this folder will be picked up instead, hence leading to the error above.*"
   ]
  },
  {
   "cell_type": "code",
   "execution_count": null,
   "metadata": {
    "collapsed": true
   },
   "outputs": [],
   "source": []
  }
 ],
 "metadata": {
  "kernelspec": {
   "display_name": "Python 3",
   "language": "python",
   "name": "python3"
  },
  "language_info": {
   "codemirror_mode": {
    "name": "ipython",
    "version": 3
   },
   "file_extension": ".py",
   "mimetype": "text/x-python",
   "name": "python",
   "nbconvert_exporter": "python",
   "pygments_lexer": "ipython3",
   "version": "3.6.2"
  }
 },
 "nbformat": 4,
 "nbformat_minor": 2
}
